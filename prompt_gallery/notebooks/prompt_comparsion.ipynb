{
 "cells": [
  {
   "cell_type": "code",
   "execution_count": 1,
   "id": "cb190dd8",
   "metadata": {},
   "outputs": [
    {
     "name": "stderr",
     "output_type": "stream",
     "text": [
      "C:\\Users\\ChonkyBoi\\AppData\\Local\\Temp\\ipykernel_20516\\3542178852.py:2: DeprecationWarning: \n",
      "Pyarrow will become a required dependency of pandas in the next major release of pandas (pandas 3.0),\n",
      "(to allow more performant data types, such as the Arrow string type, and better interoperability with other libraries)\n",
      "but was not found to be installed on your system.\n",
      "If this would cause problems for you,\n",
      "please provide us feedback at https://github.com/pandas-dev/pandas/issues/54466\n",
      "        \n",
      "  import pandas as pd\n"
     ]
    }
   ],
   "source": [
    "import json\n",
    "import pandas as pd\n",
    "from pathlib import Path\n",
    "import ipywidgets as widgets\n",
    "from IPython.display import display, Markdown"
   ]
  },
  {
   "cell_type": "code",
   "execution_count": 7,
   "id": "b54cc23a",
   "metadata": {},
   "outputs": [
    {
     "name": "stdout",
     "output_type": "stream",
     "text": [
      "Loaded file: responses_20250709_1906.jsonl\n"
     ]
    }
   ],
   "source": [
    "# Load most recent .jsonl file\n",
    "output_dir = Path(\"../outputs\")\n",
    "output_files = sorted(output_dir.glob(\"responses_*.jsonl\"), reverse=True)\n",
    "output_path = output_files[0] if output_files else None\n",
    "\n",
    "if output_path is None:\n",
    "    raise FileNotFoundError(\"No output files found in /outputs.\")\n",
    "\n",
    "print(f\"Loaded file: {output_path.name}\")"
   ]
  },
  {
   "cell_type": "code",
   "execution_count": null,
   "id": "466ccf13",
   "metadata": {},
   "outputs": [
    {
     "data": {
      "text/html": [
       "<div>\n",
       "<style scoped>\n",
       "    .dataframe tbody tr th:only-of-type {\n",
       "        vertical-align: middle;\n",
       "    }\n",
       "\n",
       "    .dataframe tbody tr th {\n",
       "        vertical-align: top;\n",
       "    }\n",
       "\n",
       "    .dataframe thead th {\n",
       "        text-align: right;\n",
       "    }\n",
       "</style>\n",
       "<table border=\"1\" class=\"dataframe\">\n",
       "  <thead>\n",
       "    <tr style=\"text-align: right;\">\n",
       "      <th></th>\n",
       "      <th>timestamp</th>\n",
       "      <th>model</th>\n",
       "      <th>model_id</th>\n",
       "      <th>prompt</th>\n",
       "      <th>category</th>\n",
       "      <th>note</th>\n",
       "      <th>response</th>\n",
       "    </tr>\n",
       "  </thead>\n",
       "  <tbody>\n",
       "    <tr>\n",
       "      <th>0</th>\n",
       "      <td>2025-07-09T19:06:46</td>\n",
       "      <td>gemma</td>\n",
       "      <td>gemma2-9b-it</td>\n",
       "      <td>Translate the sentence 'Good morning, my frien...</td>\n",
       "      <td>translation</td>\n",
       "      <td>Tests indigenous language support and translat...</td>\n",
       "      <td>There isn't a single perfect translation for \"...</td>\n",
       "    </tr>\n",
       "    <tr>\n",
       "      <th>1</th>\n",
       "      <td>2025-07-09T19:06:47</td>\n",
       "      <td>llama</td>\n",
       "      <td>llama-3.1-8b-instant</td>\n",
       "      <td>Translate the sentence 'Good morning, my frien...</td>\n",
       "      <td>translation</td>\n",
       "      <td>Tests indigenous language support and translat...</td>\n",
       "      <td>To translate the sentence 'Good morning, my fr...</td>\n",
       "    </tr>\n",
       "    <tr>\n",
       "      <th>2</th>\n",
       "      <td>2025-07-09T19:06:48</td>\n",
       "      <td>gemma</td>\n",
       "      <td>gemma2-9b-it</td>\n",
       "      <td>Translate this sentence to formal Spanish: 'Oy...</td>\n",
       "      <td>translation</td>\n",
       "      <td>Tests dialect and formality shift from colloqu...</td>\n",
       "      <td>Here are a few ways to translate \"Oye, pásame ...</td>\n",
       "    </tr>\n",
       "    <tr>\n",
       "      <th>3</th>\n",
       "      <td>2025-07-09T19:06:48</td>\n",
       "      <td>llama</td>\n",
       "      <td>llama-3.1-8b-instant</td>\n",
       "      <td>Translate this sentence to formal Spanish: 'Oy...</td>\n",
       "      <td>translation</td>\n",
       "      <td>Tests dialect and formality shift from colloqu...</td>\n",
       "      <td>La traducción formal de la oración es: \"Escuch...</td>\n",
       "    </tr>\n",
       "    <tr>\n",
       "      <th>4</th>\n",
       "      <td>2025-07-09T19:06:49</td>\n",
       "      <td>gemma</td>\n",
       "      <td>gemma2-9b-it</td>\n",
       "      <td>Translate the phrase 'Home is where the heart ...</td>\n",
       "      <td>translation</td>\n",
       "      <td>Tests abstract, idiomatic translation handling.</td>\n",
       "      <td>The most common translation of \"Home is where ...</td>\n",
       "    </tr>\n",
       "  </tbody>\n",
       "</table>\n",
       "</div>"
      ],
      "text/plain": [
       "             timestamp  model              model_id  \\\n",
       "0  2025-07-09T19:06:46  gemma          gemma2-9b-it   \n",
       "1  2025-07-09T19:06:47  llama  llama-3.1-8b-instant   \n",
       "2  2025-07-09T19:06:48  gemma          gemma2-9b-it   \n",
       "3  2025-07-09T19:06:48  llama  llama-3.1-8b-instant   \n",
       "4  2025-07-09T19:06:49  gemma          gemma2-9b-it   \n",
       "\n",
       "                                              prompt     category  \\\n",
       "0  Translate the sentence 'Good morning, my frien...  translation   \n",
       "1  Translate the sentence 'Good morning, my frien...  translation   \n",
       "2  Translate this sentence to formal Spanish: 'Oy...  translation   \n",
       "3  Translate this sentence to formal Spanish: 'Oy...  translation   \n",
       "4  Translate the phrase 'Home is where the heart ...  translation   \n",
       "\n",
       "                                                note  \\\n",
       "0  Tests indigenous language support and translat...   \n",
       "1  Tests indigenous language support and translat...   \n",
       "2  Tests dialect and formality shift from colloqu...   \n",
       "3  Tests dialect and formality shift from colloqu...   \n",
       "4    Tests abstract, idiomatic translation handling.   \n",
       "\n",
       "                                            response  \n",
       "0  There isn't a single perfect translation for \"...  \n",
       "1  To translate the sentence 'Good morning, my fr...  \n",
       "2  Here are a few ways to translate \"Oye, pásame ...  \n",
       "3  La traducción formal de la oración es: \"Escuch...  \n",
       "4  The most common translation of \"Home is where ...  "
      ]
     },
     "execution_count": 3,
     "metadata": {},
     "output_type": "execute_result"
    }
   ],
   "source": [
    "# Load JSONL into a list and then convert them to pandas dataframe\n",
    "rows = []\n",
    "with open(output_path, \"r\", encoding = \"utf-8\") as f:\n",
    "    for line in f:\n",
    "        rows.append(json.loads(line))\n",
    "\n",
    "df = pd.DataFrame(rows)\n",
    "df.head()"
   ]
  },
  {
   "cell_type": "code",
   "execution_count": null,
   "id": "a60e53ed",
   "metadata": {},
   "outputs": [],
   "source": [
    "# Pivot to compare model responses side by side\n",
    "pivot = df.pivot_table(\n",
    "    index = [\"prompt\", \"category\", \"note\"],\n",
    "    columns = \"model\",\n",
    "    values = \"response\",\n",
    "    aggfunc = \"first\"\n",
    ").reset_index()"
   ]
  },
  {
   "cell_type": "code",
   "execution_count": null,
   "id": "a934f44b",
   "metadata": {},
   "outputs": [],
   "source": [
    "# Create a combobox to interact\n",
    "categories = sorted(df[\"category\"].unique())\n",
    "dropdown = widgets.Dropdown(options = [\"All\"] + categories, description = \"Category:\")"
   ]
  },
  {
   "cell_type": "code",
   "execution_count": 16,
   "id": "7f890f4d",
   "metadata": {},
   "outputs": [
    {
     "data": {
      "application/vnd.jupyter.widget-view+json": {
       "model_id": "763ff136425146b191577c5cd283ee7d",
       "version_major": 2,
       "version_minor": 0
      },
      "text/plain": [
       "interactive(children=(Dropdown(description='Category:', index=1, options=('All', 'critique', 'logic', 'math', …"
      ]
     },
     "metadata": {},
     "output_type": "display_data"
    },
    {
     "data": {
      "text/plain": [
       "<function __main__.display_responses(selected_category)>"
      ]
     },
     "execution_count": 16,
     "metadata": {},
     "output_type": "execute_result"
    }
   ],
   "source": [
    "def display_responses(selected_category):\n",
    "    display(Markdown(f\"## Prompt Comparison – Category: `{selected_category}`\"))\n",
    "\n",
    "    filtered = pivot if selected_category == \"All\" else pivot[pivot[\"category\"] == selected_category]\n",
    "    models = df[\"model\"].unique()\n",
    "\n",
    "    for _, row in filtered.iterrows():\n",
    "        display(Markdown(f\"### Prompt: {row['prompt']}\"))\n",
    "        display(Markdown(f\"- **Category:** {row['category']}  \\n- **Note:** {row['note']}\"))\n",
    "\n",
    "        for model in models:\n",
    "            content = row.get(model)\n",
    "            if content:\n",
    "                display(Markdown(f\"<br> **{model.upper()}:**\\n\\n {content.strip()}\\n\"))\n",
    "        display(Markdown(\"---\\n\\n\"))\n",
    "\n",
    "widgets.interact(display_responses, selected_category = dropdown)"
   ]
  }
 ],
 "metadata": {
  "kernelspec": {
   "display_name": "Python 3",
   "language": "python",
   "name": "python3"
  },
  "language_info": {
   "codemirror_mode": {
    "name": "ipython",
    "version": 3
   },
   "file_extension": ".py",
   "mimetype": "text/x-python",
   "name": "python",
   "nbconvert_exporter": "python",
   "pygments_lexer": "ipython3",
   "version": "3.12.6"
  }
 },
 "nbformat": 4,
 "nbformat_minor": 5
}
